{
 "cells": [
  {
   "cell_type": "code",
   "execution_count": 5,
   "metadata": {},
   "outputs": [],
   "source": [
    "import requests\n",
    "from bs4 import BeautifulSoup\n",
    "\n",
    "item = requests.get(\"https://huggingface.co/papers/\")\n",
    "soup = BeautifulSoup(item.text, 'lxml')"
   ]
  },
  {
   "cell_type": "code",
   "execution_count": 52,
   "metadata": {},
   "outputs": [
    {
     "name": "stdout",
     "output_type": "stream",
     "text": [
      "['frame rate', 'unified framework', 'video diffusion models', 'diffusion forms', 'stage-wise diffusion', 'entropy-reducing nature', 'TPDiff', 'inter-frame redundancy']\n"
     ]
    }
   ],
   "source": [
    "item = requests.get(\"https://huggingface.co/papers/\")\n",
    "soup = BeautifulSoup(item.text, 'lxml')\n",
    "\n",
    "for item in soup.find_all('article'):\n",
    "    # Lấy tên paper\n",
    "    paper_name = item.find('h3').text\n",
    "    \n",
    "    # lấy link paper \n",
    "    paper_link = item.find('a').get('href').split(\"/\")[-1]\n",
    "    # Đếm số lượng upvote\n",
    "    divs = item.select('div.leading-none')\n",
    "    for div in divs:\n",
    "        if div.get(\"class\") == [\"leading-none\"]:\n",
    "            up_vote = int(div.text)\n",
    "        else:\n",
    "            up_vote = 0\n",
    "\n",
    "    detail = requests.get(f\"https://huggingface.co/papers/{paper_link}\")\n",
    "    if detail.status_code == 200:\n",
    "        soup = BeautifulSoup(detail.text, 'lxml')\n",
    "        \n",
    "        tags = soup.find_all('a', class_ = \"cursor-pointer\")\n",
    "        keywords = list(set([tag.text for tag in tags if not any(headkeyword in tag.text for headkeyword in ['Log In', 'Sign up'])]))\n",
    "        \n",
    "        abstract = []\n",
    "        for item in tags:\n",
    "            subabstract = item.text.strip().replace(\"\\n\", \"\")\n",
    "            if not any(headkeyword in subabstract for headkeyword in ['Log In', 'Sign up']):\n",
    "                abstract.append(subabstract)\n",
    "            else:\n",
    "                continue\n",
    "        abstract = \" \".join(abstract)\n",
    "    else:\n",
    "        continue\n",
    "    "
   ]
  },
  {
   "cell_type": "code",
   "execution_count": 43,
   "metadata": {},
   "outputs": [
    {
     "name": "stdout",
     "output_type": "stream",
     "text": [
      "[<a class=\"block cursor-pointer whitespace-nowrap px-2 py-0.5 hover:text-gray-500 dark:text-gray-300 dark:hover:text-gray-100\" href=\"/login\">Log In\n",
      "\t\t\t\t</a>, <a class=\"cursor-pointer font-normal text-gray-800 underline decoration-gray-300 decoration-dashed underline-offset-2 hover:decoration-gray-600 dark:text-gray-300 dark:decoration-gray-500 dark:hover:decoration-gray-300\" href=\"/papers?q=video%20diffusion%20models\">video diffusion models</a>, <a class=\"cursor-pointer font-normal text-gray-800 underline decoration-gray-300 decoration-dashed underline-offset-2 hover:decoration-gray-600 dark:text-gray-300 dark:decoration-gray-500 dark:hover:decoration-gray-300\" href=\"/papers?q=entropy-reducing%20nature\">entropy-reducing nature</a>, <a class=\"cursor-pointer font-normal text-gray-800 underline decoration-gray-300 decoration-dashed underline-offset-2 hover:decoration-gray-600 dark:text-gray-300 dark:decoration-gray-500 dark:hover:decoration-gray-300\" href=\"/papers?q=inter-frame%20redundancy\">inter-frame redundancy</a>, <a class=\"cursor-pointer font-normal text-gray-800 underline decoration-gray-300 decoration-dashed underline-offset-2 hover:decoration-gray-600 dark:text-gray-300 dark:decoration-gray-500 dark:hover:decoration-gray-300\" href=\"/papers?q=TPDiff\">TPDiff</a>, <a class=\"cursor-pointer font-normal text-gray-800 underline decoration-gray-300 decoration-dashed underline-offset-2 hover:decoration-gray-600 dark:text-gray-300 dark:decoration-gray-500 dark:hover:decoration-gray-300\" href=\"/papers?q=unified%20framework\">unified framework</a>, <a class=\"cursor-pointer font-normal text-gray-800 underline decoration-gray-300 decoration-dashed underline-offset-2 hover:decoration-gray-600 dark:text-gray-300 dark:decoration-gray-500 dark:hover:decoration-gray-300\" href=\"/papers?q=frame%20rate\">frame rate</a>, <a class=\"cursor-pointer font-normal text-gray-800 underline decoration-gray-300 decoration-dashed underline-offset-2 hover:decoration-gray-600 dark:text-gray-300 dark:decoration-gray-500 dark:hover:decoration-gray-300\" href=\"/papers?q=frame%20rate\">frame rate</a>, <a class=\"cursor-pointer font-normal text-gray-800 underline decoration-gray-300 decoration-dashed underline-offset-2 hover:decoration-gray-600 dark:text-gray-300 dark:decoration-gray-500 dark:hover:decoration-gray-300\" href=\"/papers?q=stage-wise%20diffusion\">stage-wise diffusion</a>, <a class=\"cursor-pointer font-normal text-gray-800 underline decoration-gray-300 decoration-dashed underline-offset-2 hover:decoration-gray-600 dark:text-gray-300 dark:decoration-gray-500 dark:hover:decoration-gray-300\" href=\"/papers?q=diffusion%20forms\">diffusion forms</a>]\n"
     ]
    }
   ],
   "source": [
    "detail = requests.get(f\"https://huggingface.co/papers/2503.09566\")\n",
    "if detail.status_code == 200:\n",
    "    soup = BeautifulSoup(detail.text, 'lxml')\n",
    "    tags = soup.find_all('a', class_ = \"cursor-pointer\")\n",
    "    print(tags)"
   ]
  },
  {
   "cell_type": "code",
   "execution_count": 1,
   "metadata": {},
   "outputs": [],
   "source": [
    "from dataclasses import dataclass\n",
    "\n",
    "@dataclass\n",
    "class Paper:\n",
    "    name: str\n",
    "    id: str\n",
    "    upvote: int\n",
    "    original_keywords: list\n",
    "    description: str\n"
   ]
  },
  {
   "cell_type": "code",
   "execution_count": 3,
   "metadata": {},
   "outputs": [
    {
     "data": {
      "text/plain": [
       "Paper(name='test', id='test2', upvote=1, original_keywords=[12, 21, '2'], description='str')"
      ]
     },
     "execution_count": 3,
     "metadata": {},
     "output_type": "execute_result"
    }
   ],
   "source": [
    "art = []\n",
    "Paper('test', 'test2', 1, [12, 21, \"2\"], 'str')"
   ]
  },
  {
   "cell_type": "code",
   "execution_count": 4,
   "metadata": {},
   "outputs": [
    {
     "data": {
      "text/plain": [
       "['Log In', 'Sign up']"
      ]
     },
     "execution_count": 4,
     "metadata": {},
     "output_type": "execute_result"
    }
   ],
   "source": [
    "SETTINGS = {\n",
    "    \"to_remove\": ['Log In', 'Sign up']\n",
    "}\n",
    "\n",
    "SETTINGS.get('to_remove')"
   ]
  },
  {
   "cell_type": "code",
   "execution_count": null,
   "metadata": {},
   "outputs": [],
   "source": [
    "set()"
   ]
  },
  {
   "cell_type": "code",
   "execution_count": null,
   "metadata": {},
   "outputs": [],
   "source": []
  }
 ],
 "metadata": {
  "kernelspec": {
   "display_name": ".venv",
   "language": "python",
   "name": "python3"
  },
  "language_info": {
   "codemirror_mode": {
    "name": "ipython",
    "version": 3
   },
   "file_extension": ".py",
   "mimetype": "text/x-python",
   "name": "python",
   "nbconvert_exporter": "python",
   "pygments_lexer": "ipython3",
   "version": "3.11.4"
  }
 },
 "nbformat": 4,
 "nbformat_minor": 2
}
