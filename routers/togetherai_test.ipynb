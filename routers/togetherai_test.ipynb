{
 "cells": [
  {
   "cell_type": "code",
   "execution_count": null,
   "metadata": {},
   "outputs": [
    {
     "name": "stdout",
     "output_type": "stream",
     "text": [
      "In the small town of Luminaria, where the sun dipped into the horizon and painted the sky with hues of crimson and gold, a young girl named Aria possessed a gift. She could weave the very fabric of reality with her threads, creating tapestries that shimmered with an otherworldly light.\n",
      "\n",
      "Aria's grandmother, a wise and wily woman named Lyra, had taught her the ancient art of luminous weaving. For generations, the women of their family had crafted intricate patterns that not only adorned the walls of their homes but also held the secrets of the universe. The threads whispered tales of forgotten lore, of mythic creatures, and of the mysteries of the cosmos.\n",
      "\n",
      "One fateful evening, as Aria sat at her loom, a mischievous wind began to stir the threads, drawing them into a wild dance. The tapestry grew larger, its colors bleeding into the night air, and Aria felt herself being pulled into its vortex. She closed her eyes, and when she opened them again, she found herself in a realm beyond her own. The stars twinkled like diamonds, and the moon shone bright with a silvery light.\n",
      "\n",
      "In this mystical world, Aria encountered the Weavers' Guild, a secret society of artisans who had mastered the art of reality weaving. They welcomed her as one of their own, and Aria knew that her journey was only just beginning. With every thread she wove, she would create a new world, a new reality, and a new tale to be told. The possibilities were endless, and Aria's imagination knew no bounds."
     ]
    }
   ],
   "source": [
    "api_kay = \"8c0fbc5e413f2e3f7dba11178d5fe014772a1197f946fb3ae2b359cc52923c6f\"\n",
    "from together import Together\n",
    "client = Together(api_key= api_kay)\n",
    "\n",
    "content_prompt = \"Tell me a 250 word story.\"\n",
    "system_prompt = \"You are a creative storyteller.\"\n",
    "\n",
    "response = client.chat.completions.create(\n",
    "    model=\"meta-llama/Llama-Vision-Free\",\n",
    "    messages=[\n",
    "        {\"role\": \"system\", \"content\": system_prompt},\n",
    "        {\"role\": \"user\", \"content\": content_prompt}\n",
    "    ],\n",
    "    stream=True\n",
    ")\n",
    "\n",
    "# Lặp qua generator để in từng chunk\n",
    "for chunk in response:\n",
    "    if hasattr(chunk, \"choices\") and chunk.choices:  # Kiểm tra chunk có choices không\n",
    "        delta = chunk.choices[0].delta\n",
    "        if hasattr(delta, \"content\") and delta.content:  # Kiểm tra delta có content không\n",
    "            print(delta.content, end=\"\", flush=True)  # In inline\n",
    "# print(response.choices[0].message.content) DO THIS when stream= False"
   ]
  },
  {
   "cell_type": "code",
   "execution_count": 11,
   "metadata": {},
   "outputs": [
    {
     "ename": "AttributeError",
     "evalue": "'generator' object has no attribute 'choices'",
     "output_type": "error",
     "traceback": [
      "\u001b[31m---------------------------------------------------------------------------\u001b[39m",
      "\u001b[31mAttributeError\u001b[39m                            Traceback (most recent call last)",
      "\u001b[36mCell\u001b[39m\u001b[36m \u001b[39m\u001b[32mIn[11]\u001b[39m\u001b[32m, line 12\u001b[39m\n\u001b[32m      2\u001b[39m system_prompt = \u001b[33m\"\u001b[39m\u001b[33m\"\u001b[39m\n\u001b[32m      4\u001b[39m response = client.chat.completions.create(\n\u001b[32m      5\u001b[39m     model=\u001b[33m\"\u001b[39m\u001b[33mmeta-llama/Llama-Vision-Free\u001b[39m\u001b[33m\"\u001b[39m,\n\u001b[32m      6\u001b[39m     messages=[\n\u001b[32m   (...)\u001b[39m\u001b[32m     10\u001b[39m     stream = \u001b[38;5;28;01mTrue\u001b[39;00m\n\u001b[32m     11\u001b[39m )\n\u001b[32m---> \u001b[39m\u001b[32m12\u001b[39m \u001b[38;5;28mprint\u001b[39m(\u001b[43mresponse\u001b[49m\u001b[43m.\u001b[49m\u001b[43mchoices\u001b[49m[\u001b[32m0\u001b[39m].message.content)\n",
      "\u001b[31mAttributeError\u001b[39m: 'generator' object has no attribute 'choices'"
     ]
    }
   ],
   "source": [
    "content_prompt = \"\"\n",
    "system_prompt = \"\"\n",
    "\n",
    "response = client.chat.completions.create(\n",
    "    model=\"meta-llama/Llama-Vision-Free\",\n",
    "    messages=[\n",
    "        {\"role\":\"system\",\"content\":system_prompt},\n",
    "        {\"role\":\"user\",\"content\":content_prompt}\n",
    "        ],\n",
    "    stream = True\n",
    ")\n",
    "print(response.choices[0].message.content)\n"
   ]
  },
  {
   "cell_type": "code",
   "execution_count": null,
   "metadata": {},
   "outputs": [],
   "source": [
    "# meta-llama/Llama-3.3-70B-Instruct-Turbo-Free\n",
    "# meta-llama/Llama-Vision-Free"
   ]
  },
  {
   "cell_type": "code",
   "execution_count": null,
   "metadata": {},
   "outputs": [],
   "source": []
  },
  {
   "cell_type": "code",
   "execution_count": null,
   "metadata": {},
   "outputs": [],
   "source": []
  },
  {
   "cell_type": "code",
   "execution_count": null,
   "metadata": {},
   "outputs": [],
   "source": []
  },
  {
   "cell_type": "code",
   "execution_count": null,
   "metadata": {},
   "outputs": [],
   "source": []
  }
 ],
 "metadata": {
  "kernelspec": {
   "display_name": ".venv",
   "language": "python",
   "name": "python3"
  },
  "language_info": {
   "codemirror_mode": {
    "name": "ipython",
    "version": 3
   },
   "file_extension": ".py",
   "mimetype": "text/x-python",
   "name": "python",
   "nbconvert_exporter": "python",
   "pygments_lexer": "ipython3",
   "version": "3.11.4"
  }
 },
 "nbformat": 4,
 "nbformat_minor": 2
}
