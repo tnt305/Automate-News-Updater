{
 "cells": [
  {
   "cell_type": "code",
   "execution_count": 2,
   "metadata": {},
   "outputs": [],
   "source": [
    "import os\n",
    "from cloudflare import Cloudflare\n",
    "\n",
    "\n",
    "client = Cloudflare(\n",
    "    api_email=os.environ.get(\"thiendc3005@gmail.com\"),  # This is the default and can be omitted\n",
    "    api_key=os.environ.get(\"v1.0-5aa363b4d31e2b97eb6f4ece-c13e258b93c80db72fd144458b6dd4b2f1a33066f2cfbac29eff1796988af05dbf44a0b2884a9ce03b26d45207c2aad18a65927c07bce45fb7c37d200e323bcdab0cabb2487c96a9f1\"),  # This is the default and can be omitted\n",
    ")"
   ]
  },
  {
   "cell_type": "code",
   "execution_count": 3,
   "metadata": {},
   "outputs": [
    {
     "ename": "AttributeError",
     "evalue": "'WorkersResource' object has no attribute 'ai'",
     "output_type": "error",
     "traceback": [
      "\u001b[31m---------------------------------------------------------------------------\u001b[39m",
      "\u001b[31mAttributeError\u001b[39m                            Traceback (most recent call last)",
      "\u001b[36mCell\u001b[39m\u001b[36m \u001b[39m\u001b[32mIn[3]\u001b[39m\u001b[32m, line 1\u001b[39m\n\u001b[32m----> \u001b[39m\u001b[32m1\u001b[39m result = \u001b[43mclient\u001b[49m\u001b[43m.\u001b[49m\u001b[43mworkers\u001b[49m\u001b[43m.\u001b[49m\u001b[43mai\u001b[49m.run(\n\u001b[32m      2\u001b[39m     \u001b[33m\"\u001b[39m\u001b[33m@cf/meta/llama-3-8b-instruct\u001b[39m\u001b[33m\"\u001b[39m ,\n\u001b[32m      3\u001b[39m     \u001b[38;5;66;03m# account_id=account_id,\u001b[39;00m\n\u001b[32m      4\u001b[39m     messages=[\n\u001b[32m      5\u001b[39m         {\u001b[33m\"\u001b[39m\u001b[33mrole\u001b[39m\u001b[33m\"\u001b[39m: \u001b[33m\"\u001b[39m\u001b[33msystem\u001b[39m\u001b[33m\"\u001b[39m, \u001b[33m\"\u001b[39m\u001b[33mcontent\u001b[39m\u001b[33m\"\u001b[39m: \u001b[33m\"\"\"\u001b[39m\n\u001b[32m      6\u001b[39m \u001b[33m            You are a productivity assistant for users of Jupyter notebooks for both Mac and Windows users.\u001b[39m\n\u001b[32m      7\u001b[39m \n\u001b[32m      8\u001b[39m \u001b[33m            Respond in Markdown.\u001b[39m\u001b[33m\"\"\"\u001b[39m\n\u001b[32m      9\u001b[39m         },\n\u001b[32m     10\u001b[39m         {\u001b[33m\"\u001b[39m\u001b[33mrole\u001b[39m\u001b[33m\"\u001b[39m: \u001b[33m\"\u001b[39m\u001b[33muser\u001b[39m\u001b[33m\"\u001b[39m, \u001b[33m\"\u001b[39m\u001b[33mcontent\u001b[39m\u001b[33m\"\u001b[39m: \u001b[33m\"\u001b[39m\u001b[33mHow do I use keyboard shortcuts to execute cells?\u001b[39m\u001b[33m\"\u001b[39m}\n\u001b[32m     11\u001b[39m     ]\n\u001b[32m     12\u001b[39m )\n\u001b[32m     14\u001b[39m display(Markdown(result[\u001b[33m\"\u001b[39m\u001b[33mresponse\u001b[39m\u001b[33m\"\u001b[39m]))\n",
      "\u001b[31mAttributeError\u001b[39m: 'WorkersResource' object has no attribute 'ai'"
     ]
    }
   ],
   "source": [
    "result = client.workers.ai.run(\n",
    "    \"@cf/meta/llama-3-8b-instruct\" ,\n",
    "    # account_id=account_id,\n",
    "    messages=[\n",
    "        {\"role\": \"system\", \"content\": \"\"\"\n",
    "            You are a productivity assistant for users of Jupyter notebooks for both Mac and Windows users.\n",
    "            \n",
    "            Respond in Markdown.\"\"\"\n",
    "        },\n",
    "        {\"role\": \"user\", \"content\": \"How do I use keyboard shortcuts to execute cells?\"}\n",
    "    ]\n",
    ")\n",
    "\n",
    "display(Markdown(result[\"response\"]))"
   ]
  },
  {
   "cell_type": "code",
   "execution_count": null,
   "metadata": {},
   "outputs": [],
   "source": [
    "#https://colab.research.google.com/github/craigsdennis/notebooks-cloudflare-workers-ai/blob/main/cloudflare-workers-ai.ipynb#scrollTo=bc549740-0687-415d-915c-65ae25d521d8"
   ]
  },
  {
   "cell_type": "code",
   "execution_count": null,
   "metadata": {},
   "outputs": [],
   "source": []
  },
  {
   "cell_type": "code",
   "execution_count": null,
   "metadata": {},
   "outputs": [],
   "source": []
  },
  {
   "cell_type": "code",
   "execution_count": null,
   "metadata": {},
   "outputs": [],
   "source": []
  },
  {
   "cell_type": "code",
   "execution_count": null,
   "metadata": {},
   "outputs": [],
   "source": []
  },
  {
   "cell_type": "code",
   "execution_count": null,
   "metadata": {},
   "outputs": [],
   "source": []
  },
  {
   "cell_type": "code",
   "execution_count": null,
   "metadata": {},
   "outputs": [],
   "source": []
  }
 ],
 "metadata": {
  "kernelspec": {
   "display_name": ".venv",
   "language": "python",
   "name": "python3"
  },
  "language_info": {
   "codemirror_mode": {
    "name": "ipython",
    "version": 3
   },
   "file_extension": ".py",
   "mimetype": "text/x-python",
   "name": "python",
   "nbconvert_exporter": "python",
   "pygments_lexer": "ipython3",
   "version": "3.11.4"
  }
 },
 "nbformat": 4,
 "nbformat_minor": 2
}
